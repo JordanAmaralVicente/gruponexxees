{
 "cells": [
  {
   "attachments": {},
   "cell_type": "markdown",
   "metadata": {},
   "source": [
    "### Bloco 1 - Configuração do Spark com suporte ao Delta lake"
   ]
  },
  {
   "cell_type": "code",
   "execution_count": null,
   "metadata": {},
   "outputs": [],
   "source": [
    "import pyspark\n",
    "from delta import *"
   ]
  },
  {
   "cell_type": "code",
   "execution_count": null,
   "metadata": {},
   "outputs": [],
   "source": [
    "builder = pyspark.sql.SparkSession.builder \\\n",
    "    .appName(\"TestePraticoJordan\") \\\n",
    "    .config(\"spark.sql.extensions\", \"io.delta.sql.DeltaSparkSessionExtension\") \\\n",
    "    .config(\"spark.sql.catalog.spark_catalog\", \"org.apache.spark.sql.delta.catalog.DeltaCatalog\")\n",
    "\n",
    "spark = configure_spark_with_delta_pip(builder).getOrCreate()"
   ]
  },
  {
   "attachments": {},
   "cell_type": "markdown",
   "metadata": {},
   "source": [
    "### Bloco 2 - Leitura do arquivo"
   ]
  },
  {
   "cell_type": "code",
   "execution_count": null,
   "metadata": {},
   "outputs": [],
   "source": [
    "PATH = 'work'\n",
    "FILENAME = 'financial_data.csv'"
   ]
  },
  {
   "cell_type": "code",
   "execution_count": null,
   "metadata": {},
   "outputs": [],
   "source": [
    "df = spark.read.format('csv').option('header', True).load(f'{PATH}/{FILENAME}')"
   ]
  },
  {
   "attachments": {},
   "cell_type": "markdown",
   "metadata": {},
   "source": [
    "### Bloco 3 - Convertendo coluna \"valor\" para double "
   ]
  },
  {
   "cell_type": "code",
   "execution_count": null,
   "metadata": {},
   "outputs": [],
   "source": [
    "df = df.withColumn('valor', col('valor').cast('double'))"
   ]
  },
  {
   "attachments": {},
   "cell_type": "markdown",
   "metadata": {},
   "source": [
    "### Bloco 4 - Filtrando transações com valores acima de 1000"
   ]
  },
  {
   "cell_type": "code",
   "execution_count": null,
   "metadata": {},
   "outputs": [],
   "source": [
    "df = df.filter(col('valor') > 1000)"
   ]
  },
  {
   "attachments": {},
   "cell_type": "markdown",
   "metadata": {},
   "source": [
    "### Bloco 5 - Salvando dados particionados por data transação em Delta Lake"
   ]
  },
  {
   "cell_type": "code",
   "execution_count": null,
   "metadata": {},
   "outputs": [],
   "source": [
    "OUTPUT_PATH = '/home/jovyan/work/delta/financial_data'"
   ]
  },
  {
   "cell_type": "code",
   "execution_count": null,
   "metadata": {},
   "outputs": [],
   "source": [
    "df.write \\\n",
    "    .format('delta') \\\n",
    "    .partitionBy('data_transacao') \\\n",
    "    .save(OUTPUT_PATH)"
   ]
  },
  {
   "attachments": {},
   "cell_type": "markdown",
   "metadata": {},
   "source": [
    "### Bloco 6 - Criando delta table a partir dos dados salvos"
   ]
  },
  {
   "cell_type": "code",
   "execution_count": null,
   "metadata": {},
   "outputs": [],
   "source": [
    "INPUT_PATH = OUTPUT_PATH"
   ]
  },
  {
   "cell_type": "code",
   "execution_count": null,
   "metadata": {},
   "outputs": [],
   "source": [
    "financial_data = DeltaTable.forPath(spark, INPUT_PATH)"
   ]
  },
  {
   "attachments": {},
   "cell_type": "markdown",
   "metadata": {},
   "source": [
    "### Bloco 7 - Consulta de transações com valor acima de 2000"
   ]
  },
  {
   "cell_type": "code",
   "execution_count": null,
   "metadata": {},
   "outputs": [],
   "source": [
    "df_financial_data = financial_data.toDF()\n",
    "df_financial_data.filter(col('valor') > 2000).show()"
   ]
  },
  {
   "attachments": {},
   "cell_type": "markdown",
   "metadata": {},
   "source": [
    "### Bloco 8 - Exibindo histórico de versões da delta table"
   ]
  },
  {
   "cell_type": "code",
   "execution_count": null,
   "metadata": {},
   "outputs": [],
   "source": [
    "financial_data.history().show()"
   ]
  },
  {
   "attachments": {},
   "cell_type": "markdown",
   "metadata": {},
   "source": [
    "### Bloco 9 - Adicionando dados"
   ]
  },
  {
   "cell_type": "code",
   "execution_count": null,
   "metadata": {},
   "outputs": [],
   "source": [
    "new_data = [\n",
    "    {'id_transacao': 11, 'data_transacao': '2024-07-08', 'valor': 3000.95, 'tipo_transacao': 'DEPOSITO', 'descricao': 'Bônus Anual'},\n",
    "    {'id_transacao': 12, 'data_transacao': '2024-07-08', 'valor': -150.40, 'tipo_transacao': 'PAGAMENTO', 'descricao': 'Restaurante'},\n",
    "    {'id_transacao': 13, 'data_transacao': '2024-07-09', 'valor': 800.75, 'tipo_transacao': 'TRANSFERENCIA', 'descricao': 'Transferência da Conta Corrente'},\n",
    "    {'id_transacao': 14, 'data_transacao': '2024-07-09', 'valor': -200.22, 'tipo_transacao': 'PAGAMENTO', 'descricao': 'Cinema'},\n",
    "]\n",
    "\n",
    "df_new_data = spark.createDataFrame(new_data)\n",
    "\n",
    "financial_data.alias('old') \\\n",
    "    .merge(\n",
    "        df_new_data.alias('new'),\n",
    "        'old.id_transacao = new.id_transacao'\n",
    "    ) \\\n",
    "    .whenMatchedUpdateAll() \\\n",
    "    .whenNotMatchedInsertAll() \\\n",
    "    .execute()\n",
    "\n",
    "df_financial_data = financial_data.toDF()"
   ]
  },
  {
   "attachments": {},
   "cell_type": "markdown",
   "metadata": {},
   "source": [
    "### Bloco 10 - Realizando consultas selecionando transações com valor superior a 1000"
   ]
  },
  {
   "cell_type": "code",
   "execution_count": null,
   "metadata": {},
   "outputs": [],
   "source": [
    "df_financial_data.filter(col('valor') > 1000).show()"
   ]
  },
  {
   "attachments": {},
   "cell_type": "markdown",
   "metadata": {},
   "source": [
    "### Bloco 11 - Agrupando transações por tipo, somando valores"
   ]
  },
  {
   "cell_type": "code",
   "execution_count": null,
   "metadata": {},
   "outputs": [],
   "source": [
    "df_financial_data \\\n",
    "    .groupBy(col('tipo_transacao')) \\\n",
    "    .agg(format_number(sum('valor'), 3).alias('valor_total')) \\\n",
    "    .select('tipo_transacao', 'valor_total') \\\n",
    "    .show()"
   ]
  }
 ],
 "metadata": {
  "language_info": {
   "name": "python"
  },
  "orig_nbformat": 4
 },
 "nbformat": 4,
 "nbformat_minor": 2
}
